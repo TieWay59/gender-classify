{
 "cells": [
  {
   "cell_type": "code",
   "execution_count": 46,
   "metadata": {
    "collapsed": true
   },
   "outputs": [
    {
     "name": "stderr",
     "output_type": "stream",
     "text": [
      "C:\\Users\\tieway59\\.conda\\envs\\gender-classify-37\\lib\\site-packages\\ipykernel_launcher.py:15: SettingWithCopyWarning: \n",
      "A value is trying to be set on a copy of a slice from a DataFrame\n",
      "\n",
      "See the caveats in the documentation: https://pandas.pydata.org/pandas-docs/stable/user_guide/indexing.html#returning-a-view-versus-a-copy\n",
      "  from ipykernel import kernelapp as app\n",
      "C:\\Users\\tieway59\\.conda\\envs\\gender-classify-37\\lib\\site-packages\\ipykernel_launcher.py:17: SettingWithCopyWarning: \n",
      "A value is trying to be set on a copy of a slice from a DataFrame\n",
      "\n",
      "See the caveats in the documentation: https://pandas.pydata.org/pandas-docs/stable/user_guide/indexing.html#returning-a-view-versus-a-copy\n",
      "  app.launch_new_instance()\n",
      "C:\\Users\\tieway59\\.conda\\envs\\gender-classify-37\\lib\\site-packages\\ipykernel_launcher.py:19: SettingWithCopyWarning: \n",
      "A value is trying to be set on a copy of a slice from a DataFrame\n",
      "\n",
      "See the caveats in the documentation: https://pandas.pydata.org/pandas-docs/stable/user_guide/indexing.html#returning-a-view-versus-a-copy\n",
      "C:\\Users\\tieway59\\.conda\\envs\\gender-classify-37\\lib\\site-packages\\ipykernel_launcher.py:21: SettingWithCopyWarning: \n",
      "A value is trying to be set on a copy of a slice from a DataFrame\n",
      "\n",
      "See the caveats in the documentation: https://pandas.pydata.org/pandas-docs/stable/user_guide/indexing.html#returning-a-view-versus-a-copy\n"
     ]
    },
    {
     "data": {
      "text/plain": "    Gender   Age   Height (cm)   Weight (kg)            Occupation  \\\n0        1    32           175            70     Software Engineer   \n1        1    25           182            85  Sales Representative   \n2        0    41           160            62                Doctor   \n3        1    38           178            79                Lawyer   \n4        0    29           165            58      Graphic Designer   \n\n      Education Level  Marital Status   Income (USD)  Favorite Color  \n0     Master's Degree         Married          75000            Blue  \n1   Bachelor's Degree          Single          45000           Green  \n2    Doctorate Degree         Married         120000          Purple  \n3   Bachelor's Degree          Single          90000             Red  \n4  Associate's Degree          Single          35000          Yellow  ",
      "text/html": "<div>\n<style scoped>\n    .dataframe tbody tr th:only-of-type {\n        vertical-align: middle;\n    }\n\n    .dataframe tbody tr th {\n        vertical-align: top;\n    }\n\n    .dataframe thead th {\n        text-align: right;\n    }\n</style>\n<table border=\"1\" class=\"dataframe\">\n  <thead>\n    <tr style=\"text-align: right;\">\n      <th></th>\n      <th>Gender</th>\n      <th>Age</th>\n      <th>Height (cm)</th>\n      <th>Weight (kg)</th>\n      <th>Occupation</th>\n      <th>Education Level</th>\n      <th>Marital Status</th>\n      <th>Income (USD)</th>\n      <th>Favorite Color</th>\n    </tr>\n  </thead>\n  <tbody>\n    <tr>\n      <th>0</th>\n      <td>1</td>\n      <td>32</td>\n      <td>175</td>\n      <td>70</td>\n      <td>Software Engineer</td>\n      <td>Master's Degree</td>\n      <td>Married</td>\n      <td>75000</td>\n      <td>Blue</td>\n    </tr>\n    <tr>\n      <th>1</th>\n      <td>1</td>\n      <td>25</td>\n      <td>182</td>\n      <td>85</td>\n      <td>Sales Representative</td>\n      <td>Bachelor's Degree</td>\n      <td>Single</td>\n      <td>45000</td>\n      <td>Green</td>\n    </tr>\n    <tr>\n      <th>2</th>\n      <td>0</td>\n      <td>41</td>\n      <td>160</td>\n      <td>62</td>\n      <td>Doctor</td>\n      <td>Doctorate Degree</td>\n      <td>Married</td>\n      <td>120000</td>\n      <td>Purple</td>\n    </tr>\n    <tr>\n      <th>3</th>\n      <td>1</td>\n      <td>38</td>\n      <td>178</td>\n      <td>79</td>\n      <td>Lawyer</td>\n      <td>Bachelor's Degree</td>\n      <td>Single</td>\n      <td>90000</td>\n      <td>Red</td>\n    </tr>\n    <tr>\n      <th>4</th>\n      <td>0</td>\n      <td>29</td>\n      <td>165</td>\n      <td>58</td>\n      <td>Graphic Designer</td>\n      <td>Associate's Degree</td>\n      <td>Single</td>\n      <td>35000</td>\n      <td>Yellow</td>\n    </tr>\n  </tbody>\n</table>\n</div>"
     },
     "execution_count": 46,
     "metadata": {},
     "output_type": "execute_result"
    }
   ],
   "source": [
    "# data process\n",
    "import pandas as pd\n",
    "import numpy as np\n",
    "\n",
    "data = pd.read_csv('gender.csv')\n",
    "\n",
    "data.drop('Unnamed: 9', axis=1, inplace=True)\n",
    "\n",
    "data[' Gender'] = data[' Gender'].replace(['male', ' male'], 1)\n",
    "data[' Gender'] = data[' Gender'].replace(['female', ' female'], 0)\n",
    "\n",
    "# Remove space from all values which starts with a space\n",
    "for i in range(len(data)):\n",
    "    if data[' Occupation'][i].startswith(' '):\n",
    "        data[' Occupation'][i] = data[' Occupation'][i].lstrip()\n",
    "    if data[' Education Level'][i].startswith(' '):\n",
    "        data[' Education Level'][i] = data[' Education Level'][i].lstrip()\n",
    "    if data[' Marital Status'][i].startswith(' '):\n",
    "        data[' Marital Status'][i] = data[' Marital Status'][i].lstrip()\n",
    "    if data[' Favorite Color'][i].startswith(' '):\n",
    "        data[' Favorite Color'][i] = data[' Favorite Color'][i].lstrip()\n",
    "\n",
    "#drop duplicate\n",
    "data.drop_duplicates(inplace=True)\n",
    "\n",
    "data.head()"
   ]
  },
  {
   "cell_type": "code",
   "execution_count": 47,
   "outputs": [
    {
     "data": {
      "text/plain": "    Gender   Age   Height (cm)   Weight (kg)            Occupation  \\\n0        1    32           175            70     Software Engineer   \n1        1    25           182            85  Sales Representative   \n2        0    41           160            62                Doctor   \n3        1    38           178            79                Lawyer   \n4        0    29           165            58      Graphic Designer   \n\n    Education Level   Marital Status   Income (USD)  Favorite Color  \n0                 1                0          75000            Blue  \n1                 0                1          45000           Green  \n2                 2                0         120000          Purple  \n3                 0                1          90000             Red  \n4                 3                1          35000          Yellow  ",
      "text/html": "<div>\n<style scoped>\n    .dataframe tbody tr th:only-of-type {\n        vertical-align: middle;\n    }\n\n    .dataframe tbody tr th {\n        vertical-align: top;\n    }\n\n    .dataframe thead th {\n        text-align: right;\n    }\n</style>\n<table border=\"1\" class=\"dataframe\">\n  <thead>\n    <tr style=\"text-align: right;\">\n      <th></th>\n      <th>Gender</th>\n      <th>Age</th>\n      <th>Height (cm)</th>\n      <th>Weight (kg)</th>\n      <th>Occupation</th>\n      <th>Education Level</th>\n      <th>Marital Status</th>\n      <th>Income (USD)</th>\n      <th>Favorite Color</th>\n    </tr>\n  </thead>\n  <tbody>\n    <tr>\n      <th>0</th>\n      <td>1</td>\n      <td>32</td>\n      <td>175</td>\n      <td>70</td>\n      <td>Software Engineer</td>\n      <td>1</td>\n      <td>0</td>\n      <td>75000</td>\n      <td>Blue</td>\n    </tr>\n    <tr>\n      <th>1</th>\n      <td>1</td>\n      <td>25</td>\n      <td>182</td>\n      <td>85</td>\n      <td>Sales Representative</td>\n      <td>0</td>\n      <td>1</td>\n      <td>45000</td>\n      <td>Green</td>\n    </tr>\n    <tr>\n      <th>2</th>\n      <td>0</td>\n      <td>41</td>\n      <td>160</td>\n      <td>62</td>\n      <td>Doctor</td>\n      <td>2</td>\n      <td>0</td>\n      <td>120000</td>\n      <td>Purple</td>\n    </tr>\n    <tr>\n      <th>3</th>\n      <td>1</td>\n      <td>38</td>\n      <td>178</td>\n      <td>79</td>\n      <td>Lawyer</td>\n      <td>0</td>\n      <td>1</td>\n      <td>90000</td>\n      <td>Red</td>\n    </tr>\n    <tr>\n      <th>4</th>\n      <td>0</td>\n      <td>29</td>\n      <td>165</td>\n      <td>58</td>\n      <td>Graphic Designer</td>\n      <td>3</td>\n      <td>1</td>\n      <td>35000</td>\n      <td>Yellow</td>\n    </tr>\n  </tbody>\n</table>\n</div>"
     },
     "execution_count": 47,
     "metadata": {},
     "output_type": "execute_result"
    }
   ],
   "source": [
    "# Occupation, Education Level, Marital Status and Favorite Color are the categorial data\n",
    "data[' Education Level'] = data[' Education Level'].replace(\n",
    "    [\"Bachelor's Degree\", \"Master's Degree\", 'Doctorate Degree',\n",
    "     \"Associate's Degree\"],\n",
    "    [0, 1, 2, 3])\n",
    "\n",
    "data[' Marital Status'] = data[' Marital Status'].replace(\n",
    "    ['Married', 'Single', 'Divorced', 'Widowed'],\n",
    "    [0, 1, 2, 3])\n",
    "\n",
    "data.head()"
   ],
   "metadata": {
    "collapsed": false
   }
  },
  {
   "cell_type": "code",
   "execution_count": 48,
   "outputs": [
    {
     "data": {
      "text/plain": "      Occupation_Accountant   Occupation_Analyst   Occupation_Architect  \\\n0                         0                    0                      0   \n1                         0                    0                      0   \n2                         0                    0                      0   \n3                         0                    0                      0   \n4                         0                    0                      0   \n..                      ...                  ...                    ...   \n125                       0                    0                      0   \n126                       0                    0                      0   \n128                       0                    0                      0   \n129                       0                    0                      0   \n130                       0                    0                      0   \n\n      Occupation_Business Analyst   Occupation_Business Consultant  \\\n0                               0                                0   \n1                               0                                0   \n2                               0                                0   \n3                               0                                0   \n4                               0                                0   \n..                            ...                              ...   \n125                             0                                0   \n126                             0                                0   \n128                             0                                0   \n129                             0                                0   \n130                             0                                0   \n\n      Occupation_CEO   Occupation_Doctor   Occupation_Engineer  \\\n0                  0                   0                     0   \n1                  0                   0                     0   \n2                  0                   1                     0   \n3                  0                   0                     0   \n4                  0                   0                     0   \n..               ...                 ...                   ...   \n125                0                   0                     0   \n126                0                   0                     0   \n128                0                   0                     0   \n129                0                   0                     0   \n130                0                   0                     0   \n\n      Occupation_Graphic Designer   Occupation_IT Manager  ...  \\\n0                               0                       0  ...   \n1                               0                       0  ...   \n2                               0                       0  ...   \n3                               0                       0  ...   \n4                               1                       0  ...   \n..                            ...                     ...  ...   \n125                             0                       0  ...   \n126                             0                       0  ...   \n128                             1                       0  ...   \n129                             0                       0  ...   \n130                             0                       0  ...   \n\n      Occupation_Writer   Favorite Color_Black   Favorite Color_Blue  \\\n0                     0                      0                     1   \n1                     0                      0                     0   \n2                     0                      0                     0   \n3                     0                      0                     0   \n4                     0                      0                     0   \n..                  ...                    ...                   ...   \n125                   0                      0                     0   \n126                   0                      0                     0   \n128                   0                      0                     0   \n129                   0                      0                     0   \n130                   0                      0                     1   \n\n      Favorite Color_Green   Favorite Color_Grey   Favorite Color_Orange  \\\n0                        0                     0                       0   \n1                        1                     0                       0   \n2                        0                     0                       0   \n3                        0                     0                       0   \n4                        0                     0                       0   \n..                     ...                   ...                     ...   \n125                      0                     0                       0   \n126                      0                     0                       1   \n128                      1                     0                       0   \n129                      0                     0                       0   \n130                      0                     0                       0   \n\n      Favorite Color_Pink   Favorite Color_Purple   Favorite Color_Red  \\\n0                       0                       0                    0   \n1                       0                       0                    0   \n2                       0                       1                    0   \n3                       0                       0                    1   \n4                       0                       0                    0   \n..                    ...                     ...                  ...   \n125                     0                       0                    1   \n126                     0                       0                    0   \n128                     0                       0                    0   \n129                     0                       0                    0   \n130                     0                       0                    0   \n\n      Favorite Color_Yellow  \n0                         0  \n1                         0  \n2                         0  \n3                         0  \n4                         1  \n..                      ...  \n125                       0  \n126                       0  \n128                       0  \n129                       1  \n130                       0  \n\n[130 rows x 28 columns]",
      "text/html": "<div>\n<style scoped>\n    .dataframe tbody tr th:only-of-type {\n        vertical-align: middle;\n    }\n\n    .dataframe tbody tr th {\n        vertical-align: top;\n    }\n\n    .dataframe thead th {\n        text-align: right;\n    }\n</style>\n<table border=\"1\" class=\"dataframe\">\n  <thead>\n    <tr style=\"text-align: right;\">\n      <th></th>\n      <th>Occupation_Accountant</th>\n      <th>Occupation_Analyst</th>\n      <th>Occupation_Architect</th>\n      <th>Occupation_Business Analyst</th>\n      <th>Occupation_Business Consultant</th>\n      <th>Occupation_CEO</th>\n      <th>Occupation_Doctor</th>\n      <th>Occupation_Engineer</th>\n      <th>Occupation_Graphic Designer</th>\n      <th>Occupation_IT Manager</th>\n      <th>...</th>\n      <th>Occupation_Writer</th>\n      <th>Favorite Color_Black</th>\n      <th>Favorite Color_Blue</th>\n      <th>Favorite Color_Green</th>\n      <th>Favorite Color_Grey</th>\n      <th>Favorite Color_Orange</th>\n      <th>Favorite Color_Pink</th>\n      <th>Favorite Color_Purple</th>\n      <th>Favorite Color_Red</th>\n      <th>Favorite Color_Yellow</th>\n    </tr>\n  </thead>\n  <tbody>\n    <tr>\n      <th>0</th>\n      <td>0</td>\n      <td>0</td>\n      <td>0</td>\n      <td>0</td>\n      <td>0</td>\n      <td>0</td>\n      <td>0</td>\n      <td>0</td>\n      <td>0</td>\n      <td>0</td>\n      <td>...</td>\n      <td>0</td>\n      <td>0</td>\n      <td>1</td>\n      <td>0</td>\n      <td>0</td>\n      <td>0</td>\n      <td>0</td>\n      <td>0</td>\n      <td>0</td>\n      <td>0</td>\n    </tr>\n    <tr>\n      <th>1</th>\n      <td>0</td>\n      <td>0</td>\n      <td>0</td>\n      <td>0</td>\n      <td>0</td>\n      <td>0</td>\n      <td>0</td>\n      <td>0</td>\n      <td>0</td>\n      <td>0</td>\n      <td>...</td>\n      <td>0</td>\n      <td>0</td>\n      <td>0</td>\n      <td>1</td>\n      <td>0</td>\n      <td>0</td>\n      <td>0</td>\n      <td>0</td>\n      <td>0</td>\n      <td>0</td>\n    </tr>\n    <tr>\n      <th>2</th>\n      <td>0</td>\n      <td>0</td>\n      <td>0</td>\n      <td>0</td>\n      <td>0</td>\n      <td>0</td>\n      <td>1</td>\n      <td>0</td>\n      <td>0</td>\n      <td>0</td>\n      <td>...</td>\n      <td>0</td>\n      <td>0</td>\n      <td>0</td>\n      <td>0</td>\n      <td>0</td>\n      <td>0</td>\n      <td>0</td>\n      <td>1</td>\n      <td>0</td>\n      <td>0</td>\n    </tr>\n    <tr>\n      <th>3</th>\n      <td>0</td>\n      <td>0</td>\n      <td>0</td>\n      <td>0</td>\n      <td>0</td>\n      <td>0</td>\n      <td>0</td>\n      <td>0</td>\n      <td>0</td>\n      <td>0</td>\n      <td>...</td>\n      <td>0</td>\n      <td>0</td>\n      <td>0</td>\n      <td>0</td>\n      <td>0</td>\n      <td>0</td>\n      <td>0</td>\n      <td>0</td>\n      <td>1</td>\n      <td>0</td>\n    </tr>\n    <tr>\n      <th>4</th>\n      <td>0</td>\n      <td>0</td>\n      <td>0</td>\n      <td>0</td>\n      <td>0</td>\n      <td>0</td>\n      <td>0</td>\n      <td>0</td>\n      <td>1</td>\n      <td>0</td>\n      <td>...</td>\n      <td>0</td>\n      <td>0</td>\n      <td>0</td>\n      <td>0</td>\n      <td>0</td>\n      <td>0</td>\n      <td>0</td>\n      <td>0</td>\n      <td>0</td>\n      <td>1</td>\n    </tr>\n    <tr>\n      <th>...</th>\n      <td>...</td>\n      <td>...</td>\n      <td>...</td>\n      <td>...</td>\n      <td>...</td>\n      <td>...</td>\n      <td>...</td>\n      <td>...</td>\n      <td>...</td>\n      <td>...</td>\n      <td>...</td>\n      <td>...</td>\n      <td>...</td>\n      <td>...</td>\n      <td>...</td>\n      <td>...</td>\n      <td>...</td>\n      <td>...</td>\n      <td>...</td>\n      <td>...</td>\n      <td>...</td>\n    </tr>\n    <tr>\n      <th>125</th>\n      <td>0</td>\n      <td>0</td>\n      <td>0</td>\n      <td>0</td>\n      <td>0</td>\n      <td>0</td>\n      <td>0</td>\n      <td>0</td>\n      <td>0</td>\n      <td>0</td>\n      <td>...</td>\n      <td>0</td>\n      <td>0</td>\n      <td>0</td>\n      <td>0</td>\n      <td>0</td>\n      <td>0</td>\n      <td>0</td>\n      <td>0</td>\n      <td>1</td>\n      <td>0</td>\n    </tr>\n    <tr>\n      <th>126</th>\n      <td>0</td>\n      <td>0</td>\n      <td>0</td>\n      <td>0</td>\n      <td>0</td>\n      <td>0</td>\n      <td>0</td>\n      <td>0</td>\n      <td>0</td>\n      <td>0</td>\n      <td>...</td>\n      <td>0</td>\n      <td>0</td>\n      <td>0</td>\n      <td>0</td>\n      <td>0</td>\n      <td>1</td>\n      <td>0</td>\n      <td>0</td>\n      <td>0</td>\n      <td>0</td>\n    </tr>\n    <tr>\n      <th>128</th>\n      <td>0</td>\n      <td>0</td>\n      <td>0</td>\n      <td>0</td>\n      <td>0</td>\n      <td>0</td>\n      <td>0</td>\n      <td>0</td>\n      <td>1</td>\n      <td>0</td>\n      <td>...</td>\n      <td>0</td>\n      <td>0</td>\n      <td>0</td>\n      <td>1</td>\n      <td>0</td>\n      <td>0</td>\n      <td>0</td>\n      <td>0</td>\n      <td>0</td>\n      <td>0</td>\n    </tr>\n    <tr>\n      <th>129</th>\n      <td>0</td>\n      <td>0</td>\n      <td>0</td>\n      <td>0</td>\n      <td>0</td>\n      <td>0</td>\n      <td>0</td>\n      <td>0</td>\n      <td>0</td>\n      <td>0</td>\n      <td>...</td>\n      <td>0</td>\n      <td>0</td>\n      <td>0</td>\n      <td>0</td>\n      <td>0</td>\n      <td>0</td>\n      <td>0</td>\n      <td>0</td>\n      <td>0</td>\n      <td>1</td>\n    </tr>\n    <tr>\n      <th>130</th>\n      <td>0</td>\n      <td>0</td>\n      <td>0</td>\n      <td>0</td>\n      <td>0</td>\n      <td>0</td>\n      <td>0</td>\n      <td>0</td>\n      <td>0</td>\n      <td>0</td>\n      <td>...</td>\n      <td>0</td>\n      <td>0</td>\n      <td>1</td>\n      <td>0</td>\n      <td>0</td>\n      <td>0</td>\n      <td>0</td>\n      <td>0</td>\n      <td>0</td>\n      <td>0</td>\n    </tr>\n  </tbody>\n</table>\n<p>130 rows × 28 columns</p>\n</div>"
     },
     "execution_count": 48,
     "metadata": {},
     "output_type": "execute_result"
    }
   ],
   "source": [
    "# Convert Occupation and Favorite color using get_dummis\n",
    "# save it as a template\n",
    "\n",
    "dummies = pd.get_dummies(data[[' Occupation', ' Favorite Color']])\n",
    "\n",
    "dummies"
   ],
   "metadata": {
    "collapsed": false
   }
  },
  {
   "cell_type": "code",
   "execution_count": 49,
   "outputs": [
    {
     "data": {
      "text/plain": "    Age   Height (cm)   Weight (kg)   Education Level   Marital Status  \\\n0    32           175            70                 1                0   \n1    25           182            85                 0                1   \n2    41           160            62                 2                0   \n3    38           178            79                 0                1   \n4    29           165            58                 3                1   \n\n    Income (USD)   Occupation_Accountant   Occupation_Analyst  \\\n0          75000                       0                    0   \n1          45000                       0                    0   \n2         120000                       0                    0   \n3          90000                       0                    0   \n4          35000                       0                    0   \n\n    Occupation_Architect   Occupation_Business Analyst  ...  \\\n0                      0                             0  ...   \n1                      0                             0  ...   \n2                      0                             0  ...   \n3                      0                             0  ...   \n4                      0                             0  ...   \n\n    Occupation_Writer   Favorite Color_Black   Favorite Color_Blue  \\\n0                   0                      0                     1   \n1                   0                      0                     0   \n2                   0                      0                     0   \n3                   0                      0                     0   \n4                   0                      0                     0   \n\n    Favorite Color_Green   Favorite Color_Grey   Favorite Color_Orange  \\\n0                      0                     0                       0   \n1                      1                     0                       0   \n2                      0                     0                       0   \n3                      0                     0                       0   \n4                      0                     0                       0   \n\n    Favorite Color_Pink   Favorite Color_Purple   Favorite Color_Red  \\\n0                     0                       0                    0   \n1                     0                       0                    0   \n2                     0                       1                    0   \n3                     0                       0                    1   \n4                     0                       0                    0   \n\n    Favorite Color_Yellow  \n0                       0  \n1                       0  \n2                       0  \n3                       0  \n4                       1  \n\n[5 rows x 34 columns]",
      "text/html": "<div>\n<style scoped>\n    .dataframe tbody tr th:only-of-type {\n        vertical-align: middle;\n    }\n\n    .dataframe tbody tr th {\n        vertical-align: top;\n    }\n\n    .dataframe thead th {\n        text-align: right;\n    }\n</style>\n<table border=\"1\" class=\"dataframe\">\n  <thead>\n    <tr style=\"text-align: right;\">\n      <th></th>\n      <th>Age</th>\n      <th>Height (cm)</th>\n      <th>Weight (kg)</th>\n      <th>Education Level</th>\n      <th>Marital Status</th>\n      <th>Income (USD)</th>\n      <th>Occupation_Accountant</th>\n      <th>Occupation_Analyst</th>\n      <th>Occupation_Architect</th>\n      <th>Occupation_Business Analyst</th>\n      <th>...</th>\n      <th>Occupation_Writer</th>\n      <th>Favorite Color_Black</th>\n      <th>Favorite Color_Blue</th>\n      <th>Favorite Color_Green</th>\n      <th>Favorite Color_Grey</th>\n      <th>Favorite Color_Orange</th>\n      <th>Favorite Color_Pink</th>\n      <th>Favorite Color_Purple</th>\n      <th>Favorite Color_Red</th>\n      <th>Favorite Color_Yellow</th>\n    </tr>\n  </thead>\n  <tbody>\n    <tr>\n      <th>0</th>\n      <td>32</td>\n      <td>175</td>\n      <td>70</td>\n      <td>1</td>\n      <td>0</td>\n      <td>75000</td>\n      <td>0</td>\n      <td>0</td>\n      <td>0</td>\n      <td>0</td>\n      <td>...</td>\n      <td>0</td>\n      <td>0</td>\n      <td>1</td>\n      <td>0</td>\n      <td>0</td>\n      <td>0</td>\n      <td>0</td>\n      <td>0</td>\n      <td>0</td>\n      <td>0</td>\n    </tr>\n    <tr>\n      <th>1</th>\n      <td>25</td>\n      <td>182</td>\n      <td>85</td>\n      <td>0</td>\n      <td>1</td>\n      <td>45000</td>\n      <td>0</td>\n      <td>0</td>\n      <td>0</td>\n      <td>0</td>\n      <td>...</td>\n      <td>0</td>\n      <td>0</td>\n      <td>0</td>\n      <td>1</td>\n      <td>0</td>\n      <td>0</td>\n      <td>0</td>\n      <td>0</td>\n      <td>0</td>\n      <td>0</td>\n    </tr>\n    <tr>\n      <th>2</th>\n      <td>41</td>\n      <td>160</td>\n      <td>62</td>\n      <td>2</td>\n      <td>0</td>\n      <td>120000</td>\n      <td>0</td>\n      <td>0</td>\n      <td>0</td>\n      <td>0</td>\n      <td>...</td>\n      <td>0</td>\n      <td>0</td>\n      <td>0</td>\n      <td>0</td>\n      <td>0</td>\n      <td>0</td>\n      <td>0</td>\n      <td>1</td>\n      <td>0</td>\n      <td>0</td>\n    </tr>\n    <tr>\n      <th>3</th>\n      <td>38</td>\n      <td>178</td>\n      <td>79</td>\n      <td>0</td>\n      <td>1</td>\n      <td>90000</td>\n      <td>0</td>\n      <td>0</td>\n      <td>0</td>\n      <td>0</td>\n      <td>...</td>\n      <td>0</td>\n      <td>0</td>\n      <td>0</td>\n      <td>0</td>\n      <td>0</td>\n      <td>0</td>\n      <td>0</td>\n      <td>0</td>\n      <td>1</td>\n      <td>0</td>\n    </tr>\n    <tr>\n      <th>4</th>\n      <td>29</td>\n      <td>165</td>\n      <td>58</td>\n      <td>3</td>\n      <td>1</td>\n      <td>35000</td>\n      <td>0</td>\n      <td>0</td>\n      <td>0</td>\n      <td>0</td>\n      <td>...</td>\n      <td>0</td>\n      <td>0</td>\n      <td>0</td>\n      <td>0</td>\n      <td>0</td>\n      <td>0</td>\n      <td>0</td>\n      <td>0</td>\n      <td>0</td>\n      <td>1</td>\n    </tr>\n  </tbody>\n</table>\n<p>5 rows × 34 columns</p>\n</div>"
     },
     "execution_count": 49,
     "metadata": {},
     "output_type": "execute_result"
    }
   ],
   "source": [
    "merged_data = pd.concat([data, dummies], axis=1)\n",
    "\n",
    "#drop\n",
    "merged_data.drop([' Occupation', ' Favorite Color'], axis=1, inplace=True)\n",
    "merged_data.drop([' Gender'], axis=1, inplace=True)\n",
    "merged_data.head()\n",
    "\n",
    "# Now the data is ready for Machine Learning modelling."
   ],
   "metadata": {
    "collapsed": false
   }
  },
  {
   "cell_type": "code",
   "execution_count": 50,
   "outputs": [
    {
     "data": {
      "text/plain": "Index([' Age', ' Height (cm)', ' Weight (kg)', ' Education Level',\n       ' Marital Status', ' Income (USD)', ' Occupation_Accountant',\n       ' Occupation_Analyst', ' Occupation_Architect',\n       ' Occupation_Business Analyst', ' Occupation_Business Consultant',\n       ' Occupation_CEO', ' Occupation_Doctor', ' Occupation_Engineer',\n       ' Occupation_Graphic Designer', ' Occupation_IT Manager',\n       ' Occupation_Lawyer', ' Occupation_Marketing Specialist',\n       ' Occupation_Nurse', ' Occupation_Project Manager',\n       ' Occupation_Sales Representative', ' Occupation_Software Developer',\n       ' Occupation_Software Engineer', ' Occupation_Teacher',\n       ' Occupation_Writer', ' Favorite Color_Black', ' Favorite Color_Blue',\n       ' Favorite Color_Green', ' Favorite Color_Grey',\n       ' Favorite Color_Orange', ' Favorite Color_Pink',\n       ' Favorite Color_Purple', ' Favorite Color_Red',\n       ' Favorite Color_Yellow'],\n      dtype='object')"
     },
     "execution_count": 50,
     "metadata": {},
     "output_type": "execute_result"
    }
   ],
   "source": [
    "merged_data.columns"
   ],
   "metadata": {
    "collapsed": false
   }
  },
  {
   "cell_type": "code",
   "execution_count": 51,
   "outputs": [
    {
     "data": {
      "text/plain": "Empty DataFrame\nColumns: [ Age,  Height (cm),  Weight (kg),  Education Level,  Marital Status,  Income (USD),  Occupation_Accountant,  Occupation_Analyst,  Occupation_Architect,  Occupation_Business Analyst,  Occupation_Business Consultant,  Occupation_CEO,  Occupation_Doctor,  Occupation_Engineer,  Occupation_Graphic Designer,  Occupation_IT Manager,  Occupation_Lawyer,  Occupation_Marketing Specialist,  Occupation_Nurse,  Occupation_Project Manager,  Occupation_Sales Representative,  Occupation_Software Developer,  Occupation_Software Engineer,  Occupation_Teacher,  Occupation_Writer,  Favorite Color_Black,  Favorite Color_Blue,  Favorite Color_Green,  Favorite Color_Grey,  Favorite Color_Orange,  Favorite Color_Pink,  Favorite Color_Purple,  Favorite Color_Red,  Favorite Color_Yellow]\nIndex: []\n\n[0 rows x 34 columns]",
      "text/html": "<div>\n<style scoped>\n    .dataframe tbody tr th:only-of-type {\n        vertical-align: middle;\n    }\n\n    .dataframe tbody tr th {\n        vertical-align: top;\n    }\n\n    .dataframe thead th {\n        text-align: right;\n    }\n</style>\n<table border=\"1\" class=\"dataframe\">\n  <thead>\n    <tr style=\"text-align: right;\">\n      <th></th>\n      <th>Age</th>\n      <th>Height (cm)</th>\n      <th>Weight (kg)</th>\n      <th>Education Level</th>\n      <th>Marital Status</th>\n      <th>Income (USD)</th>\n      <th>Occupation_Accountant</th>\n      <th>Occupation_Analyst</th>\n      <th>Occupation_Architect</th>\n      <th>Occupation_Business Analyst</th>\n      <th>...</th>\n      <th>Occupation_Writer</th>\n      <th>Favorite Color_Black</th>\n      <th>Favorite Color_Blue</th>\n      <th>Favorite Color_Green</th>\n      <th>Favorite Color_Grey</th>\n      <th>Favorite Color_Orange</th>\n      <th>Favorite Color_Pink</th>\n      <th>Favorite Color_Purple</th>\n      <th>Favorite Color_Red</th>\n      <th>Favorite Color_Yellow</th>\n    </tr>\n  </thead>\n  <tbody>\n  </tbody>\n</table>\n<p>0 rows × 34 columns</p>\n</div>"
     },
     "execution_count": 51,
     "metadata": {},
     "output_type": "execute_result"
    }
   ],
   "source": [
    "columns = [' Age', ' Height (cm)', ' Weight (kg)', ' Education Level',\n",
    "           ' Marital Status', ' Income (USD)', ' Occupation_Accountant',\n",
    "           ' Occupation_Analyst', ' Occupation_Architect',\n",
    "           ' Occupation_Business Analyst', ' Occupation_Business Consultant',\n",
    "           ' Occupation_CEO', ' Occupation_Doctor', ' Occupation_Engineer',\n",
    "           ' Occupation_Graphic Designer', ' Occupation_IT Manager',\n",
    "           ' Occupation_Lawyer', ' Occupation_Marketing Specialist',\n",
    "           ' Occupation_Nurse', ' Occupation_Project Manager',\n",
    "           ' Occupation_Sales Representative', ' Occupation_Software Developer',\n",
    "           ' Occupation_Software Engineer', ' Occupation_Teacher',\n",
    "           ' Occupation_Writer', ' Favorite Color_Black', ' Favorite Color_Blue',\n",
    "           ' Favorite Color_Green', ' Favorite Color_Grey',\n",
    "           ' Favorite Color_Orange', ' Favorite Color_Pink',\n",
    "           ' Favorite Color_Purple', ' Favorite Color_Red',\n",
    "           ' Favorite Color_Yellow']\n",
    "\n",
    "merged_data_col = pd.DataFrame(columns=columns)\n",
    "\n",
    "merged_data_col"
   ],
   "metadata": {
    "collapsed": false
   }
  },
  {
   "cell_type": "code",
   "execution_count": 52,
   "outputs": [
    {
     "data": {
      "text/plain": "    Age   Height (cm)   Weight (kg)   Education Level   Marital Status  \\\n0  30.0           0.0           0.0               0.0              0.0   \n\n    Income (USD)   Occupation_Accountant   Occupation_Analyst  \\\n0         4000.0                     0.0                  0.0   \n\n    Occupation_Architect   Occupation_Business Analyst  ...  \\\n0                    0.0                           0.0  ...   \n\n    Occupation_Writer   Favorite Color_Black   Favorite Color_Blue  \\\n0                 0.0                    0.0                   0.0   \n\n    Favorite Color_Green   Favorite Color_Grey   Favorite Color_Orange  \\\n0                    0.0                   0.0                     0.0   \n\n    Favorite Color_Pink   Favorite Color_Purple   Favorite Color_Red  \\\n0                   0.0                     0.0                  0.0   \n\n    Favorite Color_Yellow  \n0                     0.0  \n\n[1 rows x 34 columns]",
      "text/html": "<div>\n<style scoped>\n    .dataframe tbody tr th:only-of-type {\n        vertical-align: middle;\n    }\n\n    .dataframe tbody tr th {\n        vertical-align: top;\n    }\n\n    .dataframe thead th {\n        text-align: right;\n    }\n</style>\n<table border=\"1\" class=\"dataframe\">\n  <thead>\n    <tr style=\"text-align: right;\">\n      <th></th>\n      <th>Age</th>\n      <th>Height (cm)</th>\n      <th>Weight (kg)</th>\n      <th>Education Level</th>\n      <th>Marital Status</th>\n      <th>Income (USD)</th>\n      <th>Occupation_Accountant</th>\n      <th>Occupation_Analyst</th>\n      <th>Occupation_Architect</th>\n      <th>Occupation_Business Analyst</th>\n      <th>...</th>\n      <th>Occupation_Writer</th>\n      <th>Favorite Color_Black</th>\n      <th>Favorite Color_Blue</th>\n      <th>Favorite Color_Green</th>\n      <th>Favorite Color_Grey</th>\n      <th>Favorite Color_Orange</th>\n      <th>Favorite Color_Pink</th>\n      <th>Favorite Color_Purple</th>\n      <th>Favorite Color_Red</th>\n      <th>Favorite Color_Yellow</th>\n    </tr>\n  </thead>\n  <tbody>\n    <tr>\n      <th>0</th>\n      <td>30.0</td>\n      <td>0.0</td>\n      <td>0.0</td>\n      <td>0.0</td>\n      <td>0.0</td>\n      <td>4000.0</td>\n      <td>0.0</td>\n      <td>0.0</td>\n      <td>0.0</td>\n      <td>0.0</td>\n      <td>...</td>\n      <td>0.0</td>\n      <td>0.0</td>\n      <td>0.0</td>\n      <td>0.0</td>\n      <td>0.0</td>\n      <td>0.0</td>\n      <td>0.0</td>\n      <td>0.0</td>\n      <td>0.0</td>\n      <td>0.0</td>\n    </tr>\n  </tbody>\n</table>\n<p>1 rows × 34 columns</p>\n</div>"
     },
     "execution_count": 52,
     "metadata": {},
     "output_type": "execute_result"
    }
   ],
   "source": [
    "my_dict = {\n",
    "    ' Age': 30,\n",
    "    ' Income (USD)': 4000\n",
    "}\n",
    "df = merged_data_col.append(my_dict, ignore_index=True)\n",
    "df = df.fillna(int(0))\n",
    "\n",
    "df"
   ],
   "metadata": {
    "collapsed": false
   }
  },
  {
   "cell_type": "code",
   "execution_count": 53,
   "outputs": [
    {
     "name": "stdout",
     "output_type": "stream",
     "text": [
      "[1]\n"
     ]
    },
    {
     "name": "stderr",
     "output_type": "stream",
     "text": [
      "C:\\Users\\tieway59\\.conda\\envs\\gender-classify-37\\lib\\site-packages\\sklearn\\base.py:444: UserWarning: X has feature names, but DecisionTreeClassifier was fitted without feature names\n",
      "  f\"X has feature names, but {self.__class__.__name__} was fitted without\"\n"
     ]
    }
   ],
   "source": [
    "from sklearn.preprocessing import StandardScaler\n",
    "import pickle\n",
    "import numpy\n",
    "# import pandas as pd\n",
    "from sklearn.tree import DecisionTreeClassifier\n",
    "\n",
    "# pickle DecisionTreeClassifier from version 1.0.2\n",
    "model: DecisionTreeClassifier = pickle.load(open('dt_model.pkl', 'rb'))\n",
    "\n",
    "a: numpy.ndarray = model.predict(df)\n",
    "\n",
    "print(a.tolist())"
   ],
   "metadata": {
    "collapsed": false
   }
  },
  {
   "cell_type": "code",
   "execution_count": 57,
   "outputs": [
    {
     "data": {
      "text/plain": "int"
     },
     "execution_count": 57,
     "metadata": {},
     "output_type": "execute_result"
    }
   ],
   "source": [
    "\n",
    "res = int(a[0])\n",
    "\n",
    "type(res)"
   ],
   "metadata": {
    "collapsed": false
   }
  },
  {
   "cell_type": "code",
   "execution_count": null,
   "outputs": [],
   "source": [],
   "metadata": {
    "collapsed": false
   }
  }
 ],
 "metadata": {
  "kernelspec": {
   "display_name": "Python 3",
   "language": "python",
   "name": "python3"
  },
  "language_info": {
   "codemirror_mode": {
    "name": "ipython",
    "version": 2
   },
   "file_extension": ".py",
   "mimetype": "text/x-python",
   "name": "python",
   "nbconvert_exporter": "python",
   "pygments_lexer": "ipython2",
   "version": "2.7.6"
  }
 },
 "nbformat": 4,
 "nbformat_minor": 0
}
